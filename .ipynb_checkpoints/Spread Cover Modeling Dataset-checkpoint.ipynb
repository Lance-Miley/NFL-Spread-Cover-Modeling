{
 "cells": [
  {
   "cell_type": "code",
   "execution_count": 1,
   "id": "a49293b3",
   "metadata": {},
   "outputs": [],
   "source": [
    "import pandas as pd\n",
    "import numpy as np\n",
    "from haversine import haversine, Unit\n",
    "import data_agg_functions as daf"
   ]
  },
  {
   "cell_type": "code",
   "execution_count": 2,
   "id": "f65aee3f",
   "metadata": {},
   "outputs": [],
   "source": [
    "#Run the NFLfastR data pull.R file prior to running this code. The full play by play dataset is too large to be stored on github.\n",
    "data = pd.read_csv('2008-2022.csv', encoding = 'latin1', low_memory=False)\n",
    "data = data.rename(columns = {\"Unnamed: 0\": \"index\"})\n",
    "data[[\"year\", \"week\"]]=data['game_id'].str.split(\"_\", expand=True)[[0,1]].astype('int32')\n",
    "data = data[( (data['year'] >= 2021) & (data['week'] <=18) ) | ((data['year'] <=2020) & (data['week']<=17))]\n",
    "data['temp2'] = data['weather'].str.split(\"Temp\", expand=True)[1].str.extract('(\\d+)')                         \n",
    "data['temperature'] = np.where(data['temp'].notna(), data['temp'], data['temp2'])\n",
    "data['temperature'] = data['temperature'].fillna(70).astype('int32')"
   ]
  },
  {
   "cell_type": "code",
   "execution_count": 3,
   "id": "94c7cdea",
   "metadata": {},
   "outputs": [],
   "source": [
    "home_away_data = daf.create_home_away_table(data)\n",
    "score_data_final = daf.points_scored_allowed(data)\n",
    "scored_data_for_mod = daf.summary_data(score_data_final, \"points_scored\", \"points_allowed\", home_away_data)\n",
    "scored_momen_data_for_mod = daf.summary_data(score_data_final, \"points_scored\", \"points_allowed\", home_away_table = home_away_data, qtrs = 3)\n",
    "scored_momen_data_for_mod = scored_momen_data_for_mod.rename(columns = {'avg_points_scored': 'avg_points_scored_momen', 'avg_points_allowed': 'avg_points_allowed_momen'})\n",
    "yards_data_final = daf.yards_gained_allowed(data)\n",
    "yards_data_for_mod = daf.summary_data(yards_data_final, \"yards_gained\", \"yards_allowed\", home_away_data)\n",
    "spread_diff_data_final = daf.spread_diff_data(data)\n",
    "spread_ind_for_mod = daf.beat_spread_prior_wk(spread_diff_data_final, data)\n",
    "spread_diff_data_for_mod = daf.summary_data(spread_diff_data_final,'diff_from_spread', defense_column = False, home_away_table = home_away_data )\n",
    "spread_diff_capped_data_for_mod = daf.summary_data(spread_diff_data_final,'diff_from_spread_capped', home_away_table = home_away_data, defense_column = False )\n",
    "spread_diff_momen_capped_data_for_mod = daf.summary_data(spread_diff_data_final, 'diff_from_spread_capped', defense_column = False,home_away_table = home_away_data, qtrs = 3)\n",
    "spread_diff_momen_capped_data_for_mod = spread_diff_momen_capped_data_for_mod.rename(columns = {'avg_diff_from_spread_capped': 'avg_diff_from_spread_3q'})\n",
    "turnover_data_final = daf.turnover_data(data)\n",
    "turnover_data_for_mod = daf.summary_data(turnover_data_final, \"turnovers\", \"turnovers_forced\", home_away_data)\n",
    "qb_hit_data_final = daf.qb_hits(data)\n",
    "qb_hit_data_for_mod = daf.summary_data(qb_hit_data_final, \"qb_hits_allowed\", \"qb_hits\", home_away_data)\n",
    "two_min_data_final = daf.two_min_data(data)\n",
    "two_min_data_for_mod = daf.summary_data(two_min_data_final, \"two_min_scored\", \"two_min_allowed\", home_away_data)\n",
    "backup_data_for_mod = daf.backup_qb_data(data, home_away_data)\n",
    "DVOA_for_mod = daf.DVOA_data(data, home_away_data)\n",
    "distance_data = daf.distanced_traveled(data)\n",
    "game_att = daf.game_attributes(data)\n",
    "modeling_dataset = daf.finalize_modeling_dataset(game_att, scored_data_for_mod, yards_data_for_mod, turnover_data_for_mod,\n",
    "    qb_hit_data_for_mod, two_min_data_for_mod, scored_momen_data_for_mod, spread_diff_capped_data_for_mod,\n",
    "    spread_diff_momen_capped_data_for_mod, DVOA_for_mod, distance_data, backup_data_for_mod, spread_ind_for_mod)"
   ]
  },
  {
   "cell_type": "code",
   "execution_count": 4,
   "id": "70b13a4c",
   "metadata": {},
   "outputs": [],
   "source": [
    "modeling_dataset.to_csv('modeling_dataset.csv')"
   ]
  }
 ],
 "metadata": {
  "kernelspec": {
   "display_name": "Python 3 (ipykernel)",
   "language": "python",
   "name": "python3"
  },
  "language_info": {
   "codemirror_mode": {
    "name": "ipython",
    "version": 3
   },
   "file_extension": ".py",
   "mimetype": "text/x-python",
   "name": "python",
   "nbconvert_exporter": "python",
   "pygments_lexer": "ipython3",
   "version": "3.9.12"
  }
 },
 "nbformat": 4,
 "nbformat_minor": 5
}
